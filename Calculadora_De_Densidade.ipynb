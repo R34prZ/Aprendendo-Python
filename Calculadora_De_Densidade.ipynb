{
 "cells": [
  {
   "cell_type": "code",
   "execution_count": null,
   "metadata": {},
   "outputs": [],
   "source": [
    "#Calculador de densidade\n",
    "# d= m/V\n",
    "\n",
    "        #selecionar grandeza a ser calculada\n",
    "    \n",
    "selec_operac = str(input('Você deseja calcular: massa, volume ou densidade? \\nOBS:utilize os termos em minúsculo, e certifique-se de que os valores estão no SI '))\n",
    "        #lista de possíveis grandezas\n",
    "grandezas = ['massa', 'volume', 'densidade']\n",
    "#índice         0         1          2\n",
    "      \n",
    "        #definindo as possibilidades para cada grandeza \n",
    "        \n",
    "def massa():   \n",
    "    densidade = int(input('Valor da densidade: '))\n",
    "    volume = int(input('Valor do volume: '))\n",
    "    massa = densidade * volume\n",
    "    print('A massa é de', massa, 'kg')\n",
    "\n",
    "def volume():\n",
    "    massa = int(input('Valor da massa: '))\n",
    "    densidade = int(input('Valor da densidade: '))\n",
    "    volume = massa / densidade\n",
    "    print('O volume é de', volume, 'm³')\n",
    "    \n",
    "def densidade():\n",
    "    massa = int(input('Valor da massa: '))\n",
    "    volume = int(input('Valor do volume: '))\n",
    "    densidade = massa / volume\n",
    "    print('A densidade é de', densidade, 'kg/m³')\n",
    "    \n",
    "        #mostrando os resultados\n",
    "\n",
    "if selec_operac == grandezas[0]:\n",
    "    massa()\n",
    "    \n",
    "if selec_operac == grandezas[1]:\n",
    "    volume()\n",
    "    \n",
    "if selec_operac == grandezas[2]:\n",
    "    densidade()\n",
    "        "
   ]
  }
 ],
 "metadata": {
  "kernelspec": {
   "display_name": "Python 3",
   "language": "python",
   "name": "python3"
  },
  "language_info": {
   "codemirror_mode": {
    "name": "ipython",
    "version": 3
   },
   "file_extension": ".py",
   "mimetype": "text/x-python",
   "name": "python",
   "nbconvert_exporter": "python",
   "pygments_lexer": "ipython3",
   "version": "3.8.3"
  }
 },
 "nbformat": 4,
 "nbformat_minor": 4
}
