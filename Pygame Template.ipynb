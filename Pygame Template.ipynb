{
 "cells": [
  {
   "cell_type": "code",
   "execution_count": 2,
   "metadata": {},
   "outputs": [],
   "source": [
    "# Esqueleto para um projeto no Pygame (template)\n",
    "# Código feito por \"KidscanCode\"\n",
    "# KidsCanCode: https://www.youtube.com/watch?v=VO8rTszcW4s&feature=youtu.be\n",
    "import pygame\n",
    "import random\n",
    "\n",
    "# Determinar proporões\n",
    "\n",
    "WIDTH = 360\n",
    "HEIGHT = 480\n",
    "FPS = 30\n",
    "\n",
    "# Definir cores\n",
    "\n",
    "WHITE = (255, 255, 255)\n",
    "BLACK = (0, 0, 0)\n",
    "RED = (255, 0, 0)\n",
    "GREEN = (0, 255, 0)\n",
    "BLUE = (0, 0, 255)\n",
    "\n",
    "# Iniciar o pygame e o mixer do pygame e criar a janela do jogo\n",
    "\n",
    "pygame.init()\n",
    "pygame.mixer.init()\n",
    "screen = pygame.display.set_mode((WIDTH, HEIGHT))\n",
    "pygame.display.set_caption('Meu Jogo')\n",
    "clock = pygame.time.Clock()\n",
    "\n",
    "all_sprites = pygame.sprite.Group()\n",
    "\n",
    "# Game Loop\n",
    "\n",
    "running = True\n",
    "while running:\n",
    "    \n",
    "    # manter o loop na velocidade certa\n",
    "    clock.tick(FPS)\n",
    "    \n",
    "    # Process input (events)\n",
    "    for event in pygame.event.get():\n",
    "        # checar para fechar a janela\n",
    "        if event.type == pygame.QUIT:\n",
    "            running = False\n",
    "            \n",
    "    # Update\n",
    "    all_sprites.update()\n",
    "    \n",
    "    # Draw / render                \n",
    "    screen.fill(BLACK)      #as cores são feitas usando RGB, e para isso usa-se números entre 0 e 255.\n",
    "    all_sprites.draw(screen)\n",
    "    # *depois* de desenhar tudo, flip(vire) o display(tela)  *double buffering*\n",
    "    pygame.display.flip()\n",
    "    \n",
    "pygame.quit()\n",
    "    "
   ]
  }
 ],
 "metadata": {
  "kernelspec": {
   "display_name": "Python 3",
   "language": "python",
   "name": "python3"
  },
  "language_info": {
   "codemirror_mode": {
    "name": "ipython",
    "version": 3
   },
   "file_extension": ".py",
   "mimetype": "text/x-python",
   "name": "python",
   "nbconvert_exporter": "python",
   "pygments_lexer": "ipython3",
   "version": "3.8.3"
  }
 },
 "nbformat": 4,
 "nbformat_minor": 4
}
